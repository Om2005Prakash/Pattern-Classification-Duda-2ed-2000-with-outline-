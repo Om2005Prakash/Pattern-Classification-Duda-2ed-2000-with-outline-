{
 "cells": [
  {
   "cell_type": "code",
   "execution_count": 5,
   "metadata": {},
   "outputs": [],
   "source": [
    "import re\n",
    "from pypdf import PdfReader, PdfWriter\n",
    "from tqdm import tqdm\n",
    "\n",
    "pattern1 = re.compile(r'^[0-9](?:\\.[0-9]+)+ [A-Z].*', re.M)\n",
    "pattern2 = re.compile(r'Contents|CONTENTS')\n",
    "\n",
    "reader = PdfReader('Richard O. Duda, Peter E. Hart, David G. Stork - Pattern Classification (Wiley) - libgen.li.pdf')\n",
    "writer = PdfWriter()"
   ]
  },
  {
   "cell_type": "code",
   "execution_count": 6,
   "metadata": {},
   "outputs": [
    {
     "name": "stderr",
     "output_type": "stream",
     "text": [
      "100%|██████████| 738/738 [00:25<00:00, 28.66it/s]\n"
     ]
    }
   ],
   "source": [
    "head_to_page = {}\n",
    "\n",
    "for page_number, page in enumerate(tqdm(reader.pages)):\n",
    "    if page_number < 12:\n",
    "        continue\n",
    "    text = page.extract_text()\n",
    "    if pattern2.search(text) != None:\n",
    "        if pattern2.search(text).group() == 'Contents':\n",
    "            temp = text.split('\\n')[1][:-1]\n",
    "            if temp[0] != 'A':\n",
    "                head_to_page[temp] = page_number\n",
    "    else:\n",
    "        for i in pattern1.findall(text):\n",
    "            head_to_page[i] = page_number\n",
    "    writer.add_page(page)"
   ]
  },
  {
   "cell_type": "code",
   "execution_count": 9,
   "metadata": {},
   "outputs": [],
   "source": [
    "key_to_head = {}\n",
    "\n",
    "def gen_key(head:str):\n",
    "    temp = head.split()\n",
    "    key = temp[0].split('.')\n",
    "    key = [int(i) for i in key]\n",
    "    while len(key) < 3:\n",
    "        key.append(0)\n",
    "    return tuple(key)\n",
    "\n",
    "for head in head_to_page:\n",
    "    key_to_head[gen_key(head)] = head"
   ]
  },
  {
   "cell_type": "code",
   "execution_count": 10,
   "metadata": {},
   "outputs": [],
   "source": [
    "offset = -12\n",
    "\n",
    "def dfs_add_label(node, level):\n",
    "    if level > 2:\n",
    "        return\n",
    "\n",
    "    global parent\n",
    "    curr_parent = parent\n",
    "\n",
    "    list_node = list(node)\n",
    "    list_node[level] += 1\n",
    "\n",
    "    while tuple(list_node) in key_to_head:\n",
    "        head = key_to_head[tuple(list_node)]\n",
    "        pg_no = head_to_page[head] + offset\n",
    "        parent = writer.add_outline_item(head, pg_no, parent=curr_parent)\n",
    "        dfs_add_label(tuple(list_node), level+1)\n",
    "        list_node[level] += 1\n",
    "\n",
    "parent = None\n",
    "\n",
    "for ch in range(1,10):\n",
    "    temp = (ch, 0, 0)\n",
    "    head = key_to_head[temp]\n",
    "    pg_no = head_to_page[head] + offset\n",
    "    parent = writer.add_outline_item(head, pg_no)\n",
    "    dfs_add_label(temp, 1)\n",
    "\n",
    "with open('Pattern Classification Duda (With Outline).pdf', 'wb') as output:\n",
    "    writer.write(output)"
   ]
  }
 ],
 "metadata": {
  "kernelspec": {
   "display_name": "om",
   "language": "python",
   "name": "python3"
  },
  "language_info": {
   "codemirror_mode": {
    "name": "ipython",
    "version": 3
   },
   "file_extension": ".py",
   "mimetype": "text/x-python",
   "name": "python",
   "nbconvert_exporter": "python",
   "pygments_lexer": "ipython3",
   "version": "3.12.8"
  }
 },
 "nbformat": 4,
 "nbformat_minor": 2
}
